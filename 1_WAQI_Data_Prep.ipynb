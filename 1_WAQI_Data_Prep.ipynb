{
  "cells": [
    {
      "cell_type": "code",
      "source": [
        "from google.colab import drive\n",
        "drive.mount('/content/drive')"
      ],
      "metadata": {
        "colab": {
          "base_uri": "https://localhost:8080/"
        },
        "id": "P08baCkUj2V9",
        "outputId": "6f8682a0-9aa7-4145-c568-d2e8d6786dd5"
      },
      "execution_count": 1,
      "outputs": [
        {
          "output_type": "stream",
          "name": "stdout",
          "text": [
            "Mounted at /content/drive\n"
          ]
        }
      ]
    },
    {
      "cell_type": "code",
      "source": [
        "Data = \"/content/drive/MyDrive/AQI/Data/waqi_downloads\"\n",
        "Data_i = \"/content/drive/MyDrive/AQI/Data/intermediate\"\n"
      ],
      "metadata": {
        "id": "pTD5p89eUQq3"
      },
      "execution_count": 7,
      "outputs": []
    },
    {
      "cell_type": "code",
      "source": [
        "!curl --compressed -o $Data/waqi-covid-2020.csv   https://aqicn.org/data-platform/covid19/report/27510-bd565c00/2020\n",
        "!curl --compressed -o $Data/waqi-covid-2019Q1.csv https://aqicn.org/data-platform/covid19/report/27510-bd565c00/2019Q1\n",
        "!curl --compressed -o $Data/waqi-covid-2019Q2.csv https://aqicn.org/data-platform/covid19/report/27510-bd565c00/2019Q2\n",
        "!curl --compressed -o $Data/waqi-covid-2019Q3.csv https://aqicn.org/data-platform/covid19/report/27510-bd565c00/2019Q3\n",
        "!curl --compressed -o $Data/waqi-covid-2019Q4.csv https://aqicn.org/data-platform/covid19/report/27510-bd565c00/2019Q4\n",
        "!curl --compressed -o $Data/waqi-covid-2018H1.csv https://aqicn.org/data-platform/covid19/report/27510-bd565c00/2018H1\n",
        "!curl --compressed -o $Data/waqi-covid-2017H1.csv https://aqicn.org/data-platform/covid19/report/27510-bd565c00/2017H1\n",
        "!curl --compressed -o $Data/waqi-covid-2016H1.csv https://aqicn.org/data-platform/covid19/report/27510-bd565c00/2016H1\n",
        "!curl --compressed -o $Data/waqi-covid-2015H1.csv https://aqicn.org/data-platform/covid19/report/27510-bd565c00/2015H1"
      ],
      "metadata": {
        "colab": {
          "base_uri": "https://localhost:8080/"
        },
        "id": "lSt3GEVpaYaq",
        "outputId": "70cc75e4-afe9-4604-e2e2-1656b422c25f"
      },
      "execution_count": 4,
      "outputs": [
        {
          "output_type": "stream",
          "name": "stdout",
          "text": [
            "  % Total    % Received % Xferd  Average Speed   Time    Time     Time  Current\n",
            "                                 Dload  Upload   Total   Spent    Left  Speed\n",
            "100  104M  100  104M    0     0  12.9M      0  0:00:08  0:00:08 --:--:-- 15.9M\n",
            "  % Total    % Received % Xferd  Average Speed   Time    Time     Time  Current\n",
            "                                 Dload  Upload   Total   Spent    Left  Speed\n",
            "100 25.2M  100 25.2M    0     0  8616k      0  0:00:03  0:00:03 --:--:-- 8616k\n",
            "  % Total    % Received % Xferd  Average Speed   Time    Time     Time  Current\n",
            "                                 Dload  Upload   Total   Spent    Left  Speed\n",
            "100 26.9M  100 26.9M    0     0  9165k      0  0:00:03  0:00:03 --:--:-- 9165k\n",
            "  % Total    % Received % Xferd  Average Speed   Time    Time     Time  Current\n",
            "                                 Dload  Upload   Total   Spent    Left  Speed\n",
            "100 30.0M  100 30.0M    0     0  8985k      0  0:00:03  0:00:03 --:--:-- 8983k\n",
            "  % Total    % Received % Xferd  Average Speed   Time    Time     Time  Current\n",
            "                                 Dload  Upload   Total   Spent    Left  Speed\n",
            "100 29.8M  100 29.8M    0     0  9467k      0  0:00:03  0:00:03 --:--:-- 9467k\n",
            "  % Total    % Received % Xferd  Average Speed   Time    Time     Time  Current\n",
            "                                 Dload  Upload   Total   Spent    Left  Speed\n",
            "100 27.4M  100 27.4M    0     0  9078k      0  0:00:03  0:00:03 --:--:-- 9078k\n",
            "  % Total    % Received % Xferd  Average Speed   Time    Time     Time  Current\n",
            "                                 Dload  Upload   Total   Spent    Left  Speed\n",
            "100 20.7M  100 20.7M    0     0  7690k      0  0:00:02  0:00:02 --:--:-- 7687k\n",
            "  % Total    % Received % Xferd  Average Speed   Time    Time     Time  Current\n",
            "                                 Dload  Upload   Total   Spent    Left  Speed\n",
            "100 20.0M  100 20.0M    0     0  7007k      0  0:00:02  0:00:02 --:--:-- 7007k\n",
            "  % Total    % Received % Xferd  Average Speed   Time    Time     Time  Current\n",
            "                                 Dload  Upload   Total   Spent    Left  Speed\n",
            "100 18.8M  100 18.8M    0     0  7286k      0  0:00:02  0:00:02 --:--:-- 7284k\n"
          ]
        }
      ]
    },
    {
      "cell_type": "markdown",
      "metadata": {
        "id": "MP1C3RswRhSf"
      },
      "source": [
        "# WAQI Data Prep\n",
        "\n",
        "This notebook merges the historical air quality measurements available from https://aqicn.org/data-platform/covid19/ into a single file. It also adds coordinates based on the "
      ]
    },
    {
      "cell_type": "code",
      "execution_count": 6,
      "metadata": {
        "colab": {
          "base_uri": "https://localhost:8080/"
        },
        "id": "_jMq2pJYRhSi",
        "outputId": "fb305f41-8500-40dc-98a2-0a733fab88f1"
      },
      "outputs": [
        {
          "output_type": "stream",
          "name": "stdout",
          "text": [
            "/content/drive/MyDrive/AQI/Data/waqi_downloads/waqi-covid-2015H1.csv\n",
            "/content/drive/MyDrive/AQI/Data/waqi_downloads/waqi-covid-2016H1.csv\n",
            "/content/drive/MyDrive/AQI/Data/waqi_downloads/waqi-covid-2017H1.csv\n",
            "/content/drive/MyDrive/AQI/Data/waqi_downloads/waqi-covid-2018H1.csv\n",
            "/content/drive/MyDrive/AQI/Data/waqi_downloads/waqi-covid-2019Q1.csv\n",
            "/content/drive/MyDrive/AQI/Data/waqi_downloads/waqi-covid-2019Q2.csv\n",
            "/content/drive/MyDrive/AQI/Data/waqi_downloads/waqi-covid-2019Q3.csv\n",
            "/content/drive/MyDrive/AQI/Data/waqi_downloads/waqi-covid-2019Q4.csv\n",
            "/content/drive/MyDrive/AQI/Data/waqi_downloads/waqi-covid-2020.csv\n"
          ]
        }
      ],
      "source": [
        "# Check that the files are present\n",
        "!ls $Data/*.csv"
      ]
    },
    {
      "cell_type": "code",
      "execution_count": 10,
      "metadata": {
        "colab": {
          "base_uri": "https://localhost:8080/",
          "height": 204
        },
        "id": "Oqjz0YZWRhSj",
        "outputId": "1df006bb-fc3d-4c3c-b4f3-0f05168117e1"
      },
      "outputs": [
        {
          "output_type": "execute_result",
          "data": {
            "text/html": [
              "\n",
              "  <div id=\"df-caddd24e-7812-4c0b-bdea-162f62f44ef6\">\n",
              "    <div class=\"colab-df-container\">\n",
              "      <div>\n",
              "<style scoped>\n",
              "    .dataframe tbody tr th:only-of-type {\n",
              "        vertical-align: middle;\n",
              "    }\n",
              "\n",
              "    .dataframe tbody tr th {\n",
              "        vertical-align: top;\n",
              "    }\n",
              "\n",
              "    .dataframe thead th {\n",
              "        text-align: right;\n",
              "    }\n",
              "</style>\n",
              "<table border=\"1\" class=\"dataframe\">\n",
              "  <thead>\n",
              "    <tr style=\"text-align: right;\">\n",
              "      <th></th>\n",
              "      <th>Date</th>\n",
              "      <th>Country</th>\n",
              "      <th>City</th>\n",
              "      <th>Specie</th>\n",
              "      <th>count</th>\n",
              "      <th>min</th>\n",
              "      <th>max</th>\n",
              "      <th>median</th>\n",
              "      <th>variance</th>\n",
              "    </tr>\n",
              "  </thead>\n",
              "  <tbody>\n",
              "    <tr>\n",
              "      <th>0</th>\n",
              "      <td>2021-02-08</td>\n",
              "      <td>GR</td>\n",
              "      <td>Thessaloníki</td>\n",
              "      <td>pm25</td>\n",
              "      <td>46</td>\n",
              "      <td>25.0</td>\n",
              "      <td>139.0</td>\n",
              "      <td>72.0</td>\n",
              "      <td>10312.30</td>\n",
              "    </tr>\n",
              "    <tr>\n",
              "      <th>1</th>\n",
              "      <td>2021-02-15</td>\n",
              "      <td>GR</td>\n",
              "      <td>Thessaloníki</td>\n",
              "      <td>pm25</td>\n",
              "      <td>24</td>\n",
              "      <td>21.0</td>\n",
              "      <td>65.0</td>\n",
              "      <td>38.0</td>\n",
              "      <td>1506.94</td>\n",
              "    </tr>\n",
              "    <tr>\n",
              "      <th>2</th>\n",
              "      <td>2021-06-29</td>\n",
              "      <td>GR</td>\n",
              "      <td>Thessaloníki</td>\n",
              "      <td>pm25</td>\n",
              "      <td>48</td>\n",
              "      <td>38.0</td>\n",
              "      <td>82.0</td>\n",
              "      <td>59.0</td>\n",
              "      <td>1116.45</td>\n",
              "    </tr>\n",
              "    <tr>\n",
              "      <th>3</th>\n",
              "      <td>2021-07-03</td>\n",
              "      <td>GR</td>\n",
              "      <td>Thessaloníki</td>\n",
              "      <td>pm25</td>\n",
              "      <td>48</td>\n",
              "      <td>21.0</td>\n",
              "      <td>70.0</td>\n",
              "      <td>46.0</td>\n",
              "      <td>1698.40</td>\n",
              "    </tr>\n",
              "    <tr>\n",
              "      <th>4</th>\n",
              "      <td>2021-08-02</td>\n",
              "      <td>GR</td>\n",
              "      <td>Thessaloníki</td>\n",
              "      <td>pm25</td>\n",
              "      <td>48</td>\n",
              "      <td>59.0</td>\n",
              "      <td>117.0</td>\n",
              "      <td>78.0</td>\n",
              "      <td>2591.06</td>\n",
              "    </tr>\n",
              "  </tbody>\n",
              "</table>\n",
              "</div>\n",
              "      <button class=\"colab-df-convert\" onclick=\"convertToInteractive('df-caddd24e-7812-4c0b-bdea-162f62f44ef6')\"\n",
              "              title=\"Convert this dataframe to an interactive table.\"\n",
              "              style=\"display:none;\">\n",
              "        \n",
              "  <svg xmlns=\"http://www.w3.org/2000/svg\" height=\"24px\"viewBox=\"0 0 24 24\"\n",
              "       width=\"24px\">\n",
              "    <path d=\"M0 0h24v24H0V0z\" fill=\"none\"/>\n",
              "    <path d=\"M18.56 5.44l.94 2.06.94-2.06 2.06-.94-2.06-.94-.94-2.06-.94 2.06-2.06.94zm-11 1L8.5 8.5l.94-2.06 2.06-.94-2.06-.94L8.5 2.5l-.94 2.06-2.06.94zm10 10l.94 2.06.94-2.06 2.06-.94-2.06-.94-.94-2.06-.94 2.06-2.06.94z\"/><path d=\"M17.41 7.96l-1.37-1.37c-.4-.4-.92-.59-1.43-.59-.52 0-1.04.2-1.43.59L10.3 9.45l-7.72 7.72c-.78.78-.78 2.05 0 2.83L4 21.41c.39.39.9.59 1.41.59.51 0 1.02-.2 1.41-.59l7.78-7.78 2.81-2.81c.8-.78.8-2.07 0-2.86zM5.41 20L4 18.59l7.72-7.72 1.47 1.35L5.41 20z\"/>\n",
              "  </svg>\n",
              "      </button>\n",
              "      \n",
              "  <style>\n",
              "    .colab-df-container {\n",
              "      display:flex;\n",
              "      flex-wrap:wrap;\n",
              "      gap: 12px;\n",
              "    }\n",
              "\n",
              "    .colab-df-convert {\n",
              "      background-color: #E8F0FE;\n",
              "      border: none;\n",
              "      border-radius: 50%;\n",
              "      cursor: pointer;\n",
              "      display: none;\n",
              "      fill: #1967D2;\n",
              "      height: 32px;\n",
              "      padding: 0 0 0 0;\n",
              "      width: 32px;\n",
              "    }\n",
              "\n",
              "    .colab-df-convert:hover {\n",
              "      background-color: #E2EBFA;\n",
              "      box-shadow: 0px 1px 2px rgba(60, 64, 67, 0.3), 0px 1px 3px 1px rgba(60, 64, 67, 0.15);\n",
              "      fill: #174EA6;\n",
              "    }\n",
              "\n",
              "    [theme=dark] .colab-df-convert {\n",
              "      background-color: #3B4455;\n",
              "      fill: #D2E3FC;\n",
              "    }\n",
              "\n",
              "    [theme=dark] .colab-df-convert:hover {\n",
              "      background-color: #434B5C;\n",
              "      box-shadow: 0px 1px 3px 1px rgba(0, 0, 0, 0.15);\n",
              "      filter: drop-shadow(0px 1px 2px rgba(0, 0, 0, 0.3));\n",
              "      fill: #FFFFFF;\n",
              "    }\n",
              "  </style>\n",
              "\n",
              "      <script>\n",
              "        const buttonEl =\n",
              "          document.querySelector('#df-caddd24e-7812-4c0b-bdea-162f62f44ef6 button.colab-df-convert');\n",
              "        buttonEl.style.display =\n",
              "          google.colab.kernel.accessAllowed ? 'block' : 'none';\n",
              "\n",
              "        async function convertToInteractive(key) {\n",
              "          const element = document.querySelector('#df-caddd24e-7812-4c0b-bdea-162f62f44ef6');\n",
              "          const dataTable =\n",
              "            await google.colab.kernel.invokeFunction('convertToInteractive',\n",
              "                                                     [key], {});\n",
              "          if (!dataTable) return;\n",
              "\n",
              "          const docLinkHtml = 'Like what you see? Visit the ' +\n",
              "            '<a target=\"_blank\" href=https://colab.research.google.com/notebooks/data_table.ipynb>data table notebook</a>'\n",
              "            + ' to learn more about interactive tables.';\n",
              "          element.innerHTML = '';\n",
              "          dataTable['output_type'] = 'display_data';\n",
              "          await google.colab.output.renderOutput(dataTable, element);\n",
              "          const docLink = document.createElement('div');\n",
              "          docLink.innerHTML = docLinkHtml;\n",
              "          element.appendChild(docLink);\n",
              "        }\n",
              "      </script>\n",
              "    </div>\n",
              "  </div>\n",
              "  "
            ],
            "text/plain": [
              "         Date Country          City Specie  ...   min    max  median  variance\n",
              "0  2021-02-08      GR  Thessaloníki   pm25  ...  25.0  139.0    72.0  10312.30\n",
              "1  2021-02-15      GR  Thessaloníki   pm25  ...  21.0   65.0    38.0   1506.94\n",
              "2  2021-06-29      GR  Thessaloníki   pm25  ...  38.0   82.0    59.0   1116.45\n",
              "3  2021-07-03      GR  Thessaloníki   pm25  ...  21.0   70.0    46.0   1698.40\n",
              "4  2021-08-02      GR  Thessaloníki   pm25  ...  59.0  117.0    78.0   2591.06\n",
              "\n",
              "[5 rows x 9 columns]"
            ]
          },
          "metadata": {},
          "execution_count": 10
        }
      ],
      "source": [
        "import pandas as pd\n",
        "import glob\n",
        "\n",
        "csvs = glob.glob(f\"{Data}/*.csv\")\n",
        "df = pd.concat([pd.read_csv(csv, skiprows=4) for csv in csvs])\n",
        "df.head()"
      ]
    },
    {
      "cell_type": "code",
      "execution_count": 12,
      "metadata": {
        "id": "8t_EnR4NRhSk"
      },
      "outputs": [],
      "source": [
        "#select only pm2.5 pollutants ad save\n",
        "df=df[['Date','Country','City','median']].loc[df['Specie']=='pm25']\n",
        "df.rename(columns={'median':'Median_PM25'},inplace=True)\n",
        "df.to_csv(f\"{Data_i}/waqi_pm25.csv\", index=False)"
      ]
    },
    {
      "cell_type": "markdown",
      "metadata": {
        "id": "wdJFVHzZRhSl"
      },
      "source": [
        "### Adding locations\n",
        "\n",
        "The dataset used is linked in the same page (https://aqicn.org/data-platform/covid19/) and contains locations fo rthe different cities."
      ]
    },
    {
      "cell_type": "code",
      "execution_count": 13,
      "metadata": {
        "colab": {
          "base_uri": "https://localhost:8080/"
        },
        "id": "G3RyaZ5SRhSm",
        "outputId": "b212399b-15a5-4788-cdef-ad50d24efcd5"
      },
      "outputs": [
        {
          "output_type": "stream",
          "name": "stdout",
          "text": [
            "  % Total    % Received % Xferd  Average Speed   Time    Time     Time  Current\n",
            "                                 Dload  Upload   Total   Spent    Left  Speed\n",
            "100  124k    0  124k    0     0   116k      0 --:--:--  0:00:01 --:--:--  116k\n"
          ]
        }
      ],
      "source": [
        "# Download the file\n",
        "!curl --compressed -o $Data/airquality-covid19-cities.json https://aqicn.org/data-platform/covid19/airquality-covid19-cities.json"
      ]
    },
    {
      "cell_type": "code",
      "execution_count": 14,
      "metadata": {
        "colab": {
          "base_uri": "https://localhost:8080/"
        },
        "id": "2Gl2O4-hRhSm",
        "outputId": "a578968e-1633-4869-f9ba-ca43a6555f61"
      },
      "outputs": [
        {
          "output_type": "execute_result",
          "data": {
            "text/plain": [
              "{'Place': {'country': 'GR',\n",
              "  'feature': 'PPLA',\n",
              "  'geo': [40.64361, 22.93086],\n",
              "  'name': 'Thessaloníki',\n",
              "  'pop': 354290},\n",
              " 'Sources': [{'logo': '',\n",
              "   'name': 'Citizen Weather Observer Program (CWOP/APRS)',\n",
              "   'pols': ['weather'],\n",
              "   'url': 'http://wxqa.com/'},\n",
              "  {'logo': 'Greece.ypeka.png',\n",
              "   'name': 'ΥΠΟΥΡΓΕΙΟ ΠΕΡΙΒΑΛΛΟΝΤΟΣ ΚΑΙ ΕΝΕΡΓΕΙΑΣ - Greek Ministry of Environment and Energy',\n",
              "   'pols': None,\n",
              "   'url': 'http://www.ypeka.gr'},\n",
              "  {'logo': 'Europe-EEA.png',\n",
              "   'name': 'European Environment Agency',\n",
              "   'pols': None,\n",
              "   'url': 'http://www.eea.europa.eu/themes/air/'}],\n",
              " 'Stations': [{'Name': 'Agia Sofia, Greece'}, {'Name': 'Panorama, Greece'}]}"
            ]
          },
          "metadata": {},
          "execution_count": 14
        }
      ],
      "source": [
        "# Load the city info\n",
        "import json\n",
        "cities = json.load(open(f\"{Data}/airquality-covid19-cities.json\", 'r'))\n",
        "cities['data'][0] # An example"
      ]
    },
    {
      "cell_type": "code",
      "execution_count": 15,
      "metadata": {
        "colab": {
          "base_uri": "https://localhost:8080/"
        },
        "id": "T5zrl-SFRhSn",
        "outputId": "7876d03c-f9e8-4a97-ecfe-65135f992e95"
      },
      "outputs": [
        {
          "output_type": "stream",
          "name": "stdout",
          "text": [
            "Error on: Washington D.C.\n"
          ]
        }
      ],
      "source": [
        "# Find and store the locations of all the cities in our dataset\n",
        "city_locations = {}\n",
        "for city in df.City.unique():\n",
        "    data = next((item for item in cities['data'] if item[\"Place\"]['name'] == city), None)\n",
        "    if data == None:\n",
        "        print('Error on:', city)\n",
        "    else:\n",
        "        city_locations[city] = data['Place']['geo']"
      ]
    },
    {
      "cell_type": "code",
      "execution_count": 16,
      "metadata": {
        "id": "I7qCvLKHRhSo"
      },
      "outputs": [],
      "source": [
        "# Manual Fix for DC\n",
        "data = next((item for item in cities['data'] if 'Washington' in item[\"Place\"]['name']), None)\n",
        "city_locations['Washington D.C.'] = data['Place']['geo']"
      ]
    },
    {
      "cell_type": "code",
      "execution_count": 17,
      "metadata": {
        "colab": {
          "base_uri": "https://localhost:8080/",
          "height": 204
        },
        "id": "d_VZsqnjRhSo",
        "outputId": "10bf207f-a6bd-4ccb-e5d0-8db8b5487bfe"
      },
      "outputs": [
        {
          "output_type": "execute_result",
          "data": {
            "text/html": [
              "\n",
              "  <div id=\"df-440c4e07-196f-4a81-8813-29ecb7fc52c3\">\n",
              "    <div class=\"colab-df-container\">\n",
              "      <div>\n",
              "<style scoped>\n",
              "    .dataframe tbody tr th:only-of-type {\n",
              "        vertical-align: middle;\n",
              "    }\n",
              "\n",
              "    .dataframe tbody tr th {\n",
              "        vertical-align: top;\n",
              "    }\n",
              "\n",
              "    .dataframe thead th {\n",
              "        text-align: right;\n",
              "    }\n",
              "</style>\n",
              "<table border=\"1\" class=\"dataframe\">\n",
              "  <thead>\n",
              "    <tr style=\"text-align: right;\">\n",
              "      <th></th>\n",
              "      <th>Date</th>\n",
              "      <th>Country</th>\n",
              "      <th>City</th>\n",
              "      <th>Median_PM25</th>\n",
              "      <th>Lat</th>\n",
              "      <th>Long</th>\n",
              "    </tr>\n",
              "  </thead>\n",
              "  <tbody>\n",
              "    <tr>\n",
              "      <th>0</th>\n",
              "      <td>2021-02-08</td>\n",
              "      <td>GR</td>\n",
              "      <td>Thessaloníki</td>\n",
              "      <td>72.0</td>\n",
              "      <td>40.64361</td>\n",
              "      <td>22.93086</td>\n",
              "    </tr>\n",
              "    <tr>\n",
              "      <th>1</th>\n",
              "      <td>2021-02-15</td>\n",
              "      <td>GR</td>\n",
              "      <td>Thessaloníki</td>\n",
              "      <td>38.0</td>\n",
              "      <td>40.64361</td>\n",
              "      <td>22.93086</td>\n",
              "    </tr>\n",
              "    <tr>\n",
              "      <th>2</th>\n",
              "      <td>2021-06-29</td>\n",
              "      <td>GR</td>\n",
              "      <td>Thessaloníki</td>\n",
              "      <td>59.0</td>\n",
              "      <td>40.64361</td>\n",
              "      <td>22.93086</td>\n",
              "    </tr>\n",
              "    <tr>\n",
              "      <th>3</th>\n",
              "      <td>2021-07-03</td>\n",
              "      <td>GR</td>\n",
              "      <td>Thessaloníki</td>\n",
              "      <td>46.0</td>\n",
              "      <td>40.64361</td>\n",
              "      <td>22.93086</td>\n",
              "    </tr>\n",
              "    <tr>\n",
              "      <th>4</th>\n",
              "      <td>2021-08-02</td>\n",
              "      <td>GR</td>\n",
              "      <td>Thessaloníki</td>\n",
              "      <td>78.0</td>\n",
              "      <td>40.64361</td>\n",
              "      <td>22.93086</td>\n",
              "    </tr>\n",
              "  </tbody>\n",
              "</table>\n",
              "</div>\n",
              "      <button class=\"colab-df-convert\" onclick=\"convertToInteractive('df-440c4e07-196f-4a81-8813-29ecb7fc52c3')\"\n",
              "              title=\"Convert this dataframe to an interactive table.\"\n",
              "              style=\"display:none;\">\n",
              "        \n",
              "  <svg xmlns=\"http://www.w3.org/2000/svg\" height=\"24px\"viewBox=\"0 0 24 24\"\n",
              "       width=\"24px\">\n",
              "    <path d=\"M0 0h24v24H0V0z\" fill=\"none\"/>\n",
              "    <path d=\"M18.56 5.44l.94 2.06.94-2.06 2.06-.94-2.06-.94-.94-2.06-.94 2.06-2.06.94zm-11 1L8.5 8.5l.94-2.06 2.06-.94-2.06-.94L8.5 2.5l-.94 2.06-2.06.94zm10 10l.94 2.06.94-2.06 2.06-.94-2.06-.94-.94-2.06-.94 2.06-2.06.94z\"/><path d=\"M17.41 7.96l-1.37-1.37c-.4-.4-.92-.59-1.43-.59-.52 0-1.04.2-1.43.59L10.3 9.45l-7.72 7.72c-.78.78-.78 2.05 0 2.83L4 21.41c.39.39.9.59 1.41.59.51 0 1.02-.2 1.41-.59l7.78-7.78 2.81-2.81c.8-.78.8-2.07 0-2.86zM5.41 20L4 18.59l7.72-7.72 1.47 1.35L5.41 20z\"/>\n",
              "  </svg>\n",
              "      </button>\n",
              "      \n",
              "  <style>\n",
              "    .colab-df-container {\n",
              "      display:flex;\n",
              "      flex-wrap:wrap;\n",
              "      gap: 12px;\n",
              "    }\n",
              "\n",
              "    .colab-df-convert {\n",
              "      background-color: #E8F0FE;\n",
              "      border: none;\n",
              "      border-radius: 50%;\n",
              "      cursor: pointer;\n",
              "      display: none;\n",
              "      fill: #1967D2;\n",
              "      height: 32px;\n",
              "      padding: 0 0 0 0;\n",
              "      width: 32px;\n",
              "    }\n",
              "\n",
              "    .colab-df-convert:hover {\n",
              "      background-color: #E2EBFA;\n",
              "      box-shadow: 0px 1px 2px rgba(60, 64, 67, 0.3), 0px 1px 3px 1px rgba(60, 64, 67, 0.15);\n",
              "      fill: #174EA6;\n",
              "    }\n",
              "\n",
              "    [theme=dark] .colab-df-convert {\n",
              "      background-color: #3B4455;\n",
              "      fill: #D2E3FC;\n",
              "    }\n",
              "\n",
              "    [theme=dark] .colab-df-convert:hover {\n",
              "      background-color: #434B5C;\n",
              "      box-shadow: 0px 1px 3px 1px rgba(0, 0, 0, 0.15);\n",
              "      filter: drop-shadow(0px 1px 2px rgba(0, 0, 0, 0.3));\n",
              "      fill: #FFFFFF;\n",
              "    }\n",
              "  </style>\n",
              "\n",
              "      <script>\n",
              "        const buttonEl =\n",
              "          document.querySelector('#df-440c4e07-196f-4a81-8813-29ecb7fc52c3 button.colab-df-convert');\n",
              "        buttonEl.style.display =\n",
              "          google.colab.kernel.accessAllowed ? 'block' : 'none';\n",
              "\n",
              "        async function convertToInteractive(key) {\n",
              "          const element = document.querySelector('#df-440c4e07-196f-4a81-8813-29ecb7fc52c3');\n",
              "          const dataTable =\n",
              "            await google.colab.kernel.invokeFunction('convertToInteractive',\n",
              "                                                     [key], {});\n",
              "          if (!dataTable) return;\n",
              "\n",
              "          const docLinkHtml = 'Like what you see? Visit the ' +\n",
              "            '<a target=\"_blank\" href=https://colab.research.google.com/notebooks/data_table.ipynb>data table notebook</a>'\n",
              "            + ' to learn more about interactive tables.';\n",
              "          element.innerHTML = '';\n",
              "          dataTable['output_type'] = 'display_data';\n",
              "          await google.colab.output.renderOutput(dataTable, element);\n",
              "          const docLink = document.createElement('div');\n",
              "          docLink.innerHTML = docLinkHtml;\n",
              "          element.appendChild(docLink);\n",
              "        }\n",
              "      </script>\n",
              "    </div>\n",
              "  </div>\n",
              "  "
            ],
            "text/plain": [
              "         Date Country          City  Median_PM25       Lat      Long\n",
              "0  2021-02-08      GR  Thessaloníki         72.0  40.64361  22.93086\n",
              "1  2021-02-15      GR  Thessaloníki         38.0  40.64361  22.93086\n",
              "2  2021-06-29      GR  Thessaloníki         59.0  40.64361  22.93086\n",
              "3  2021-07-03      GR  Thessaloníki         46.0  40.64361  22.93086\n",
              "4  2021-08-02      GR  Thessaloníki         78.0  40.64361  22.93086"
            ]
          },
          "metadata": {},
          "execution_count": 17
        }
      ],
      "source": [
        "# Add to our dataframe\n",
        "df['Lat'] = df['City'].map(lambda x: city_locations[x][0])\n",
        "df['Long'] = df['City'].map(lambda x: city_locations[x][1])\n",
        "df.to_csv(f\"{Data_i}/citypm25.csv\",index=False)\n",
        "df.head()"
      ]
    },
    {
      "cell_type": "code",
      "execution_count": 18,
      "metadata": {
        "colab": {
          "base_uri": "https://localhost:8080/"
        },
        "id": "4uvlbGdaRhSp",
        "outputId": "903065ee-2f8f-4704-854a-3f7e1a9b6907"
      },
      "outputs": [
        {
          "output_type": "execute_result",
          "data": {
            "text/plain": [
              "Date           0\n",
              "Country        0\n",
              "City           0\n",
              "Median_PM25    0\n",
              "Lat            0\n",
              "Long           0\n",
              "dtype: int64"
            ]
          },
          "metadata": {},
          "execution_count": 18
        }
      ],
      "source": [
        "# Check 1 - make sure there aren't missing values\n",
        "df.isna().sum()"
      ]
    },
    {
      "cell_type": "code",
      "execution_count": 19,
      "metadata": {
        "colab": {
          "base_uri": "https://localhost:8080/",
          "height": 269
        },
        "id": "mK7dObWURhSp",
        "outputId": "bd657135-e6b7-41e8-ab96-03403446597d"
      },
      "outputs": [
        {
          "output_type": "execute_result",
          "data": {
            "text/plain": [
              "<matplotlib.axes._subplots.AxesSubplot at 0x7fa5c9ee0690>"
            ]
          },
          "metadata": {},
          "execution_count": 19
        },
        {
          "output_type": "display_data",
          "data": {
            "image/png": "[encoded data removed]",
            "text/plain": [
              "<Figure size 432x288 with 2 Axes>"
            ]
          },
          "metadata": {
            "needs_background": "light"
          }
        }
      ],
      "source": [
        "# Check 2 - look at the map\n",
        "df.groupby('City').mean().plot(x='Long', y='Lat', kind='scatter', c='Median_PM25')"
      ]
    },
    {
      "cell_type": "markdown",
      "metadata": {
        "id": "94XdSRShRhSq"
      },
      "source": [
        "Looking good. We'll use ../Data/intermediate/citypm25.csv in future notebooks."
      ]
    }
  ],
  "metadata": {
    "kernelspec": {
      "display_name": "Python 3",
      "language": "python",
      "name": "python3"
    },
    "language_info": {
      "codemirror_mode": {
        "name": "ipython",
        "version": 3
      },
      "file_extension": ".py",
      "mimetype": "text/x-python",
      "name": "python",
      "nbconvert_exporter": "python",
      "pygments_lexer": "ipython3",
      "version": "3.7.6"
    },
    "colab": {
      "name": "1_WAQI_Data_Prep.ipynb",
      "provenance": [],
      "collapsed_sections": []
    },
    "accelerator": "GPU"
  },
  "nbformat": 4,
  "nbformat_minor": 0
}